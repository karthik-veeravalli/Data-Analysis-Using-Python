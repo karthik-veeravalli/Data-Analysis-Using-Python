{
  "cells": [
    {
      "metadata": {
        "trusted": true
      },
      "cell_type": "code",
      "source": "## Python List\n## Non Homogenous group of data type of elements\n",
      "execution_count": 2,
      "outputs": []
    },
    {
      "metadata": {
        "trusted": true
      },
      "cell_type": "code",
      "source": "[1, 4, 5, 'asaD', 'SDFSD', 12.2]",
      "execution_count": 3,
      "outputs": [
        {
          "output_type": "execute_result",
          "execution_count": 3,
          "data": {
            "text/plain": "[1, 4, 5, 'asaD', 'SDFSD', 12.2]"
          },
          "metadata": {}
        }
      ]
    },
    {
      "metadata": {
        "trusted": true
      },
      "cell_type": "code",
      "source": "",
      "execution_count": null,
      "outputs": []
    },
    {
      "metadata": {
        "trusted": true
      },
      "cell_type": "code",
      "source": "numbers --> int, float, complex\n\n1000000 --> int, float, complex",
      "execution_count": null,
      "outputs": []
    },
    {
      "metadata": {
        "trusted": true
      },
      "cell_type": "code",
      "source": "import numpy",
      "execution_count": 4,
      "outputs": []
    },
    {
      "metadata": {
        "trusted": true
      },
      "cell_type": "code",
      "source": "arr = numpy.array([])\narr1 = numpy.array(())\n\nprint(arr, type(arr))",
      "execution_count": 5,
      "outputs": [
        {
          "output_type": "stream",
          "text": "[] <class 'numpy.ndarray'>\n",
          "name": "stdout"
        }
      ]
    },
    {
      "metadata": {
        "trusted": true
      },
      "cell_type": "code",
      "source": "import numpy as np\nprint(np.array([1, 2, 3]))",
      "execution_count": 6,
      "outputs": [
        {
          "output_type": "stream",
          "text": "[1 2 3]\n",
          "name": "stdout"
        }
      ]
    },
    {
      "metadata": {
        "trusted": true
      },
      "cell_type": "code",
      "source": "arr = np.array([1, 2, 3])\n\narr",
      "execution_count": 7,
      "outputs": [
        {
          "output_type": "execute_result",
          "execution_count": 7,
          "data": {
            "text/plain": "array([1, 2, 3])"
          },
          "metadata": {}
        }
      ]
    },
    {
      "metadata": {
        "trusted": true
      },
      "cell_type": "code",
      "source": "arr.dtype",
      "execution_count": 8,
      "outputs": [
        {
          "output_type": "execute_result",
          "execution_count": 8,
          "data": {
            "text/plain": "dtype('int64')"
          },
          "metadata": {}
        }
      ]
    },
    {
      "metadata": {
        "trusted": true
      },
      "cell_type": "code",
      "source": "arr = np.array([])\nprint(arr)\n\narr = np.append(arr, [12, 14])\n\nprint(arr)",
      "execution_count": 9,
      "outputs": [
        {
          "output_type": "stream",
          "text": "[]\n[12. 14.]\n",
          "name": "stdout"
        }
      ]
    },
    {
      "metadata": {
        "trusted": true
      },
      "cell_type": "code",
      "source": "print(arr)",
      "execution_count": 10,
      "outputs": [
        {
          "output_type": "stream",
          "text": "[12. 14.]\n",
          "name": "stdout"
        }
      ]
    },
    {
      "metadata": {
        "trusted": true
      },
      "cell_type": "code",
      "source": "## range(start, stop, inc/dec)\n\n## start = 0 stop = req argument exclusive inc/dec = 1",
      "execution_count": 11,
      "outputs": []
    },
    {
      "metadata": {
        "trusted": true
      },
      "cell_type": "code",
      "source": "\nprint(np.arange(10))\nprint(np.arange(1, 10))\nprint(np.arange(1,50,10))",
      "execution_count": 12,
      "outputs": [
        {
          "output_type": "stream",
          "text": "[0 1 2 3 4 5 6 7 8 9]\n[1 2 3 4 5 6 7 8 9]\n[ 1 11 21 31 41]\n",
          "name": "stdout"
        }
      ]
    },
    {
      "metadata": {
        "trusted": true
      },
      "cell_type": "code",
      "source": "arr = np.arange(1, 10)",
      "execution_count": 13,
      "outputs": []
    },
    {
      "metadata": {
        "trusted": true
      },
      "cell_type": "code",
      "source": "arr.size, len(arr)",
      "execution_count": 14,
      "outputs": [
        {
          "output_type": "execute_result",
          "execution_count": 14,
          "data": {
            "text/plain": "(9, 9)"
          },
          "metadata": {}
        }
      ]
    },
    {
      "metadata": {
        "trusted": true
      },
      "cell_type": "code",
      "source": "arr.itemsize",
      "execution_count": 15,
      "outputs": [
        {
          "output_type": "execute_result",
          "execution_count": 15,
          "data": {
            "text/plain": "8"
          },
          "metadata": {}
        }
      ]
    },
    {
      "metadata": {
        "trusted": true
      },
      "cell_type": "code",
      "source": "arr.dtype",
      "execution_count": 16,
      "outputs": [
        {
          "output_type": "execute_result",
          "execution_count": 16,
          "data": {
            "text/plain": "dtype('int64')"
          },
          "metadata": {}
        }
      ]
    },
    {
      "metadata": {
        "trusted": true
      },
      "cell_type": "code",
      "source": "arr.nbytes",
      "execution_count": 17,
      "outputs": [
        {
          "output_type": "execute_result",
          "execution_count": 17,
          "data": {
            "text/plain": "72"
          },
          "metadata": {}
        }
      ]
    },
    {
      "metadata": {
        "trusted": true
      },
      "cell_type": "code",
      "source": "zeros = np.zeros(10, dtype = \"int8\")\nprint(zeros, zeros.dtype)",
      "execution_count": 18,
      "outputs": [
        {
          "output_type": "stream",
          "text": "[0 0 0 0 0 0 0 0 0 0] int8\n",
          "name": "stdout"
        }
      ]
    },
    {
      "metadata": {
        "trusted": true
      },
      "cell_type": "code",
      "source": "zeros.nbytes",
      "execution_count": 19,
      "outputs": [
        {
          "output_type": "execute_result",
          "execution_count": 19,
          "data": {
            "text/plain": "10"
          },
          "metadata": {}
        }
      ]
    },
    {
      "metadata": {
        "trusted": true
      },
      "cell_type": "code",
      "source": "np.ones(10, dtype = int)",
      "execution_count": 20,
      "outputs": [
        {
          "output_type": "execute_result",
          "execution_count": 20,
          "data": {
            "text/plain": "array([1, 1, 1, 1, 1, 1, 1, 1, 1, 1])"
          },
          "metadata": {}
        }
      ]
    },
    {
      "metadata": {
        "trusted": true
      },
      "cell_type": "code",
      "source": "np.full(10, \"HARRY\")",
      "execution_count": 21,
      "outputs": [
        {
          "output_type": "execute_result",
          "execution_count": 21,
          "data": {
            "text/plain": "array(['HARRY', 'HARRY', 'HARRY', 'HARRY', 'HARRY', 'HARRY', 'HARRY',\n       'HARRY', 'HARRY', 'HARRY'], dtype='<U5')"
          },
          "metadata": {}
        }
      ]
    },
    {
      "metadata": {
        "trusted": true
      },
      "cell_type": "code",
      "source": "np.linspace(1, 10, 50)",
      "execution_count": 22,
      "outputs": [
        {
          "output_type": "execute_result",
          "execution_count": 22,
          "data": {
            "text/plain": "array([ 1.        ,  1.18367347,  1.36734694,  1.55102041,  1.73469388,\n        1.91836735,  2.10204082,  2.28571429,  2.46938776,  2.65306122,\n        2.83673469,  3.02040816,  3.20408163,  3.3877551 ,  3.57142857,\n        3.75510204,  3.93877551,  4.12244898,  4.30612245,  4.48979592,\n        4.67346939,  4.85714286,  5.04081633,  5.2244898 ,  5.40816327,\n        5.59183673,  5.7755102 ,  5.95918367,  6.14285714,  6.32653061,\n        6.51020408,  6.69387755,  6.87755102,  7.06122449,  7.24489796,\n        7.42857143,  7.6122449 ,  7.79591837,  7.97959184,  8.16326531,\n        8.34693878,  8.53061224,  8.71428571,  8.89795918,  9.08163265,\n        9.26530612,  9.44897959,  9.63265306,  9.81632653, 10.        ])"
          },
          "metadata": {}
        }
      ]
    },
    {
      "metadata": {
        "trusted": true
      },
      "cell_type": "code",
      "source": "np.arange(1.0, 11.0, 0.18367347)",
      "execution_count": 23,
      "outputs": [
        {
          "output_type": "execute_result",
          "execution_count": 23,
          "data": {
            "text/plain": "array([ 1.        ,  1.18367347,  1.36734694,  1.55102041,  1.73469388,\n        1.91836735,  2.10204082,  2.28571429,  2.46938776,  2.65306123,\n        2.8367347 ,  3.02040817,  3.20408164,  3.38775511,  3.57142858,\n        3.75510205,  3.93877552,  4.12244899,  4.30612246,  4.48979593,\n        4.6734694 ,  4.85714287,  5.04081634,  5.22448981,  5.40816328,\n        5.59183675,  5.77551022,  5.95918369,  6.14285716,  6.32653063,\n        6.5102041 ,  6.69387757,  6.87755104,  7.06122451,  7.24489798,\n        7.42857145,  7.61224492,  7.79591839,  7.97959186,  8.16326533,\n        8.3469388 ,  8.53061227,  8.71428574,  8.89795921,  9.08163268,\n        9.26530615,  9.44897962,  9.63265309,  9.81632656, 10.00000003,\n       10.1836735 , 10.36734697, 10.55102044, 10.73469391, 10.91836738])"
          },
          "metadata": {}
        }
      ]
    },
    {
      "metadata": {
        "trusted": true
      },
      "cell_type": "code",
      "source": "",
      "execution_count": null,
      "outputs": []
    }
  ],
  "metadata": {
    "kernelspec": {
      "name": "python36",
      "display_name": "Python 3.6",
      "language": "python"
    },
    "language_info": {
      "mimetype": "text/x-python",
      "nbconvert_exporter": "python",
      "name": "python",
      "pygments_lexer": "ipython3",
      "version": "3.6.6",
      "file_extension": ".py",
      "codemirror_mode": {
        "version": 3,
        "name": "ipython"
      }
    }
  },
  "nbformat": 4,
  "nbformat_minor": 2
}